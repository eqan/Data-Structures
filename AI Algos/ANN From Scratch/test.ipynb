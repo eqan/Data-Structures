{
 "cells": [
  {
   "cell_type": "markdown",
   "metadata": {},
   "source": [
    "# ANN\n",
    "---\n",
    "Implementation of an Artificial Neural Network by scratch using Python"
   ]
  },
  {
   "cell_type": "markdown",
   "metadata": {},
   "source": [
    "### Libraries"
   ]
  },
  {
   "cell_type": "code",
   "execution_count": 1,
   "metadata": {},
   "outputs": [],
   "source": [
    "import neural_network as nn\n",
    "import numpy as np\n",
    "import pandas as pd"
   ]
  },
  {
   "cell_type": "markdown",
   "metadata": {},
   "source": [
    "### Dataset handling"
   ]
  },
  {
   "cell_type": "code",
   "execution_count": 2,
   "metadata": {
    "tags": []
   },
   "outputs": [
    {
     "name": "stdout",
     "output_type": "stream",
     "text": [
      "Dataset dimensions: \n",
      " (768, 8)\n"
     ]
    }
   ],
   "source": [
    "df = pd.read_csv('data/diabetes.csv')\n",
    "dataset = df.to_numpy()\n",
    "x = dataset[:,:-1]\n",
    "y = np.array([dataset[:,-1]])\n",
    "print('Dataset dimensions: \\n', x.shape)"
   ]
  },
  {
   "cell_type": "markdown",
   "metadata": {},
   "source": [
    "### Artificial Neural Network initialization"
   ]
  },
  {
   "cell_type": "code",
   "execution_count": 3,
   "metadata": {
    "tags": []
   },
   "outputs": [],
   "source": [
    "# setting the number of input units (equal to the number of parameters)\n",
    "n_input = x.shape[1]\n",
    "\n",
    "# setting the number of hidden units\n",
    "n_hidden = 15\n",
    "\n",
    "# ANN initialization\n",
    "net = nn.ANN([n_input, n_hidden, 1])\n",
    "\n",
    "# splitting the dataset into training and testing sets\n",
    "net.split_train_test(x, y, train_set=0.85, target_norm=False)"
   ]
  },
  {
   "cell_type": "markdown",
   "metadata": {},
   "source": [
    "### Train phase"
   ]
  },
  {
   "cell_type": "code",
   "execution_count": 4,
   "metadata": {
    "tags": []
   },
   "outputs": [
    {
     "name": "stderr",
     "output_type": "stream",
     "text": [
      "100%|██████████| 1000/1000 [01:42<00:00,  9.80it/s]\n"
     ]
    }
   ],
   "source": [
    "net.train(epochs=1000, eta=0.01)"
   ]
  },
  {
   "cell_type": "markdown",
   "metadata": {},
   "source": [
    "### Test phase"
   ]
  },
  {
   "cell_type": "code",
   "execution_count": 5,
   "metadata": {
    "tags": []
   },
   "outputs": [
    {
     "name": "stdout",
     "output_type": "stream",
     "text": [
      "Accuracy: 92.09%\n"
     ]
    }
   ],
   "source": [
    "net.test()"
   ]
  }
 ],
 "metadata": {
  "interpreter": {
   "hash": "5912e50704e772ca7656cd93bcf5ce263728df73e98beae9ff423c8bb5dbd16d"
  },
  "kernelspec": {
   "display_name": "Python 3.9.5 ('base')",
   "language": "python",
   "name": "python3"
  },
  "language_info": {
   "codemirror_mode": {
    "name": "ipython",
    "version": 3
   },
   "file_extension": ".py",
   "mimetype": "text/x-python",
   "name": "python",
   "nbconvert_exporter": "python",
   "pygments_lexer": "ipython3",
   "version": "3.9.5"
  },
  "orig_nbformat": 2
 },
 "nbformat": 4,
 "nbformat_minor": 2
}
