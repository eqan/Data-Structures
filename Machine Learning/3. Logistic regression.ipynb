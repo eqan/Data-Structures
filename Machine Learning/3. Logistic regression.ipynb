{
 "cells": [
  {
   "cell_type": "markdown",
   "metadata": {
    "id": "dGFOFZB9t4dH"
   },
   "source": [
    "### Task 3: Logistic Regression"
   ]
  },
  {
   "cell_type": "markdown",
   "metadata": {},
   "source": [
    "Importing Libraries"
   ]
  },
  {
   "cell_type": "code",
   "execution_count": 73,
   "metadata": {},
   "outputs": [],
   "source": [
    "import numpy as np\n",
    "import pandas as pd"
   ]
  },
  {
   "cell_type": "markdown",
   "metadata": {},
   "source": [
    "Importing Data & Normalizing it using Z-Score Method"
   ]
  },
  {
   "cell_type": "code",
   "execution_count": 74,
   "metadata": {},
   "outputs": [
    {
     "data": {
      "text/html": [
       "<div>\n",
       "<style scoped>\n",
       "    .dataframe tbody tr th:only-of-type {\n",
       "        vertical-align: middle;\n",
       "    }\n",
       "\n",
       "    .dataframe tbody tr th {\n",
       "        vertical-align: top;\n",
       "    }\n",
       "\n",
       "    .dataframe thead th {\n",
       "        text-align: right;\n",
       "    }\n",
       "</style>\n",
       "<table border=\"1\" class=\"dataframe\">\n",
       "  <thead>\n",
       "    <tr style=\"text-align: right;\">\n",
       "      <th></th>\n",
       "      <th>Living area</th>\n",
       "      <th>Number of bedrooms</th>\n",
       "      <th>Number of floors</th>\n",
       "    </tr>\n",
       "  </thead>\n",
       "  <tbody>\n",
       "    <tr>\n",
       "      <th>0</th>\n",
       "      <td>2104.0</td>\n",
       "      <td>3.0</td>\n",
       "      <td>2.0</td>\n",
       "    </tr>\n",
       "    <tr>\n",
       "      <th>1</th>\n",
       "      <td>1600.0</td>\n",
       "      <td>3.0</td>\n",
       "      <td>2.0</td>\n",
       "    </tr>\n",
       "    <tr>\n",
       "      <th>2</th>\n",
       "      <td>2400.0</td>\n",
       "      <td>3.0</td>\n",
       "      <td>2.0</td>\n",
       "    </tr>\n",
       "    <tr>\n",
       "      <th>3</th>\n",
       "      <td>1416.0</td>\n",
       "      <td>2.0</td>\n",
       "      <td>1.0</td>\n",
       "    </tr>\n",
       "    <tr>\n",
       "      <th>4</th>\n",
       "      <td>3000.0</td>\n",
       "      <td>4.0</td>\n",
       "      <td>3.0</td>\n",
       "    </tr>\n",
       "    <tr>\n",
       "      <th>5</th>\n",
       "      <td>1985.0</td>\n",
       "      <td>4.0</td>\n",
       "      <td>3.0</td>\n",
       "    </tr>\n",
       "    <tr>\n",
       "      <th>6</th>\n",
       "      <td>1534.0</td>\n",
       "      <td>3.0</td>\n",
       "      <td>2.0</td>\n",
       "    </tr>\n",
       "    <tr>\n",
       "      <th>7</th>\n",
       "      <td>1427.0</td>\n",
       "      <td>3.0</td>\n",
       "      <td>2.0</td>\n",
       "    </tr>\n",
       "    <tr>\n",
       "      <th>8</th>\n",
       "      <td>1380.0</td>\n",
       "      <td>3.0</td>\n",
       "      <td>2.0</td>\n",
       "    </tr>\n",
       "    <tr>\n",
       "      <th>9</th>\n",
       "      <td>1494.0</td>\n",
       "      <td>3.0</td>\n",
       "      <td>2.0</td>\n",
       "    </tr>\n",
       "  </tbody>\n",
       "</table>\n",
       "</div>"
      ],
      "text/plain": [
       "   Living area  Number of bedrooms  Number of floors\n",
       "0       2104.0                 3.0               2.0\n",
       "1       1600.0                 3.0               2.0\n",
       "2       2400.0                 3.0               2.0\n",
       "3       1416.0                 2.0               1.0\n",
       "4       3000.0                 4.0               3.0\n",
       "5       1985.0                 4.0               3.0\n",
       "6       1534.0                 3.0               2.0\n",
       "7       1427.0                 3.0               2.0\n",
       "8       1380.0                 3.0               2.0\n",
       "9       1494.0                 3.0               2.0"
      ]
     },
     "execution_count": 74,
     "metadata": {},
     "output_type": "execute_result"
    }
   ],
   "source": [
    "df = pd.read_fwf('DataX.dat')\n",
    "df.columns = ['Living area', 'Number of bedrooms', 'Number of floors']\n",
    "X = df[['Living area', 'Number of bedrooms', 'Number of floors']]\n",
    "X[0:10]"
   ]
  },
  {
   "cell_type": "code",
   "execution_count": 75,
   "metadata": {},
   "outputs": [
    {
     "name": "stdout",
     "output_type": "stream",
     "text": [
      "   House prices in response\n",
      "0                         1\n",
      "1                         1\n",
      "2                         1\n",
      "3                         0\n",
      "4                         1\n"
     ]
    }
   ],
   "source": [
    "df = pd.read_fwf('ClassY.dat')\n",
    "df.columns = ['House prices in response']\n",
    "y = df['House prices in response']\n",
    "print(df.head())\n"
   ]
  },
  {
   "cell_type": "markdown",
   "metadata": {},
   "source": [
    "Implementation of Logistic Regression\n",
    "1. Sigmoid function\n",
    "2. Optimization function\n",
    "3. Weights & bias implementation\n",
    "4. Train function\n",
    "5. Calculating prediction"
   ]
  },
  {
   "cell_type": "markdown",
   "metadata": {},
   "source": [
    "1. Sigmoid function"
   ]
  },
  {
   "cell_type": "code",
   "execution_count": 76,
   "metadata": {},
   "outputs": [],
   "source": [
    "def sigmoid(input):    \n",
    "    output = 1 / (1 + np.exp(-input))\n",
    "    return output"
   ]
  },
  {
   "cell_type": "markdown",
   "metadata": {},
   "source": [
    "2. Optimization function"
   ]
  },
  {
   "cell_type": "code",
   "execution_count": 77,
   "metadata": {},
   "outputs": [],
   "source": [
    "def optimize(x, y,learning_rate,iterations,parameters): \n",
    "    weight = parameters[\"weight\"]\n",
    "    bias = parameters[\"bias\"]\n",
    "    for i in range(iterations):\n",
    "        sigma = sigmoid(np.dot(x, weight) + bias)\n",
    "        loss = np.sum((y-sigma)**2)/(len(y)*2)\n",
    "        dW = 1/len(y) * np.dot((y-sigma)*(sigma)*(1-sigma), x)\n",
    "        db = 1/len(y) * np.sum((y-sigma)*(sigma)*(1-sigma))\n",
    "        weight -= learning_rate * dW\n",
    "        bias -= learning_rate * db\n",
    "\n",
    "    parameters[\"weight\"] = weight\n",
    "    parameters[\"bias\"] = bias\n",
    "    return parameters"
   ]
  },
  {
   "cell_type": "markdown",
   "metadata": {},
   "source": [
    "3. Weights & bias implementation"
   ]
  },
  {
   "cell_type": "code",
   "execution_count": 78,
   "metadata": {},
   "outputs": [],
   "source": [
    "init_parameters = {} \n",
    "init_parameters[\"weight\"] = np.zeros(X.shape[1])\n",
    "init_parameters[\"bias\"] = 0"
   ]
  },
  {
   "cell_type": "markdown",
   "metadata": {},
   "source": [
    "4. Train function"
   ]
  },
  {
   "cell_type": "code",
   "execution_count": 79,
   "metadata": {},
   "outputs": [],
   "source": [
    "# Define the train function\n",
    "def train(x, y, learning_rate,iterations):\n",
    "    parameters_out = optimize(x, y, learning_rate, iterations ,init_parameters)\n",
    "    return parameters_out"
   ]
  },
  {
   "cell_type": "markdown",
   "metadata": {},
   "source": [
    "5. Calculating prediction"
   ]
  },
  {
   "cell_type": "code",
   "execution_count": 80,
   "metadata": {},
   "outputs": [
    {
     "data": {
      "text/plain": [
       "{'weight': array([ 5.91309955e-02, -4.63945028e-05,  1.78960145e-05]),\n",
       " 'bias': -5.4718258958945216e-05}"
      ]
     },
     "execution_count": 80,
     "metadata": {},
     "output_type": "execute_result"
    }
   ],
   "source": [
    "# Train the model\n",
    "parameters_out = train(X, y, learning_rate = 0.01, iterations = 500)\n",
    "parameters_out"
   ]
  },
  {
   "cell_type": "code",
   "execution_count": 81,
   "metadata": {},
   "outputs": [
    {
     "name": "stdout",
     "output_type": "stream",
     "text": [
      "Prediction of first 10 values: Costly Costly Costly Costly Costly Costly Costly Costly Costly Costly \n",
      "\n"
     ]
    }
   ],
   "source": [
    "output_values = np.dot(X[0:10], parameters_out[\"weight\"]) + parameters_out[\"bias\"]\n",
    "print(\"Prediction of first 10 values: \", end='')\n",
    "for values in sigmoid(output_values):\n",
    "    if values >= 0.5:\n",
    "        print(\"Costly\", end=' ')\n",
    "    else:\n",
    "        print(\"Not Costly\", end=\" \")\n",
    "print(\"\\n\")"
   ]
  },
  {
   "cell_type": "markdown",
   "metadata": {},
   "source": [
    "#### Conclusion\n",
    "\n",
    "Thus most of the values found here, are categorized under the 'Costly' category as the values of the sigmoid function illustrates it being equal to or above the value 0.5."
   ]
  }
 ],
 "metadata": {
  "kernelspec": {
   "display_name": "Python 3.9.13 ('base')",
   "language": "python",
   "name": "python3"
  },
  "language_info": {
   "codemirror_mode": {
    "name": "ipython",
    "version": 3
   },
   "file_extension": ".py",
   "mimetype": "text/x-python",
   "name": "python",
   "nbconvert_exporter": "python",
   "pygments_lexer": "ipython3",
   "version": "3.9.13"
  },
  "vscode": {
   "interpreter": {
    "hash": "e12765796638d9a3172923db48f45255d3e6d46a6260f8915c9db537e52ddeda"
   }
  }
 },
 "nbformat": 4,
 "nbformat_minor": 4
}
